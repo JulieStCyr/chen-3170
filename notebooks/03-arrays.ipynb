{
 "cells": [
  {
   "cell_type": "markdown",
   "metadata": {
    "slideshow": {
     "slide_type": "slide"
    }
   },
   "source": [
    "ChEn-3170: Computational Methods in Chemical Engineering Fall 2020 UMass Lowell; Prof. V. F. de Almeida **09Sep20**\n",
    "\n",
    "# 03. Arrays"
   ]
  },
  {
   "cell_type": "markdown",
   "metadata": {
    "slideshow": {
     "slide_type": "slide"
    }
   },
   "source": [
    "---\n",
    "## Table of Contents<a id=\"toc\">\n",
    "* [Objectives](#obj)\n",
    "* [Introduction](#introduction)\n",
    "    \n",
    "    \n",
    "* [NumPy Package](#numpy)\n",
    " - [1-D (vector)](#1d)\n",
    "    + [Important: shared data](#nb)\n",
    " - [2-D (matrix)](#2d)\n",
    "   + [Visualization](#plot)\n",
    " - [3-D (brick or block or cube)](#3d)\n",
    "    \n",
    "    \n",
    "* [Array Slicing (or Views)](#views)\n",
    " - [Sampling (Filtering)](#sampling)\n",
    "    \n",
    "    \n",
    "* [Notable Matrices](#zeros)\n",
    "------"
   ]
  },
  {
   "cell_type": "markdown",
   "metadata": {},
   "source": [
    "## [Objectives](#toc)<a id=\"obj\"></a>\n",
    "\n",
    " + Expand on data structures convered so far to include multidimensional arrays for scientific computing.\n",
    " + Cover essential elements of data layout for scientific computing.\n",
    " + Experiment with views/slices of arrays using visualization (Matplotlib)."
   ]
  },
  {
   "cell_type": "markdown",
   "metadata": {
    "slideshow": {
     "slide_type": "slide"
    }
   },
   "source": [
    "## [Introduction](#toc)<a id=\"introduction\"></a>\n",
    "Arrays are containers of data in a structured form, *i.e.* in a *block* layout. This course uses the n-dimensional array Python package:\n",
    "+ [NumPy](http://www.numpy.org/): `ndarray` (n-dimensional or multi-dimensional array).\n",
    "+ [Quick-start tutorial](https://docs.scipy.org/doc/numpy/user/quickstart.html):\n",
    "we need to import `numpy` into the Python interpreter."
   ]
  },
  {
   "cell_type": "markdown",
   "metadata": {
    "slideshow": {
     "slide_type": "slide"
    }
   },
   "source": [
    "## [NumPy Package](#toc)<a id=\"numpy\"></a>\n",
    "All packages in Python are imported into your session using the `import` *statement*."
   ]
  },
  {
   "cell_type": "code",
   "execution_count": null,
   "metadata": {
    "ExecuteTime": {
     "end_time": "2020-08-24T19:15:24.779243Z",
     "start_time": "2020-08-24T19:15:24.719209Z"
    },
    "slideshow": {
     "slide_type": "slide"
    }
   },
   "outputs": [],
   "source": [
    "'''Python packages are accessed with an import directive as such:'''\n",
    "\n",
    "import numpy as np  # import the package and create the alias: np"
   ]
  },
  {
   "cell_type": "markdown",
   "metadata": {
    "slideshow": {
     "slide_type": "slide"
    }
   },
   "source": [
    "### [One-dimensional array (or vector)](#toc)<a id=\"1d\"></a>\n",
    "A one-dimensional array or **vector** is an ordered sequence of data types."
   ]
  },
  {
   "cell_type": "code",
   "execution_count": null,
   "metadata": {
    "ExecuteTime": {
     "end_time": "2020-08-24T19:15:26.826963Z",
     "start_time": "2020-08-24T19:15:26.821049Z"
    },
    "scrolled": true,
    "slideshow": {
     "slide_type": "slide"
    }
   },
   "outputs": [],
   "source": [
    "'''Loading data into \"ndarray\" using built-in Python data types and the \"np.array()\" method'''\n",
    "\n",
    "pylist = [4.5, 8, 90, 1e2, 2.3e-5]   # create a native Python list\n",
    "\n",
    "mass_cc = np.array(pylist)  # array() takes a list and converts it into a ndarray\n",
    "\n",
    "print('mass_cc type =',type(mass_cc))\n",
    "print('mass_cc length =',mass_cc.size)        # check size with help(np.size)\n",
    "print('mass_cc shape =',mass_cc.shape) \n",
    "print('mass_cc =',mass_cc)\n",
    "print('mass_cc entry dtype =',mass_cc.dtype)  # check type with help(np.dtype)"
   ]
  },
  {
   "cell_type": "code",
   "execution_count": null,
   "metadata": {
    "ExecuteTime": {
     "end_time": "2020-08-24T19:15:27.969957Z",
     "start_time": "2020-08-24T19:15:27.968026Z"
    }
   },
   "outputs": [],
   "source": [
    "#help(np.array)"
   ]
  },
  {
   "cell_type": "code",
   "execution_count": null,
   "metadata": {
    "ExecuteTime": {
     "end_time": "2020-08-24T19:15:28.782371Z",
     "start_time": "2020-08-24T19:15:28.773929Z"
    }
   },
   "outputs": [],
   "source": [
    "'''NumPy has a very rich set of algebraic operations on arrays; a few examples'''\n",
    "\n",
    "print('mass_cc =',mass_cc)\n",
    "print('2.0 * mass_cc     = ', 2*mass_cc)\n",
    "print('2.0 / mass_cc     = ', 2/mass_cc)\n",
    "print('mass_cc**2        = ', mass_cc**2)\n",
    "print('np.log(mass_cc)   = ', np.log(mass_cc))\n",
    "print('mass_cc - mass_cc = ', mass_cc - mass_cc)\n",
    "print('mean(mass_cc)     = ', np.mean(mass_cc))\n",
    "print('var(mass_cc)      = ', np.var(mass_cc))\n",
    "print('std(mass_cc)      = ', np.std(mass_cc))\n",
    "print('sum(mass_cc)      = ', np.sum(mass_cc))"
   ]
  },
  {
   "cell_type": "code",
   "execution_count": null,
   "metadata": {
    "ExecuteTime": {
     "end_time": "2020-08-24T19:15:29.968126Z",
     "start_time": "2020-08-24T19:15:29.962302Z"
    },
    "scrolled": true,
    "slideshow": {
     "slide_type": "slide"
    }
   },
   "outputs": [],
   "source": [
    "'''Loading data into \"ndarray\" using built-in Python data types and the \"np.array()\" method'''\n",
    "\n",
    "species_set = {'water','argon','O2','N2'}\n",
    "\n",
    "species = np.array(species_set)  \n",
    "\n",
    "print('species type =',type(species))\n",
    "print('***species length*** =',species.size)\n",
    "print('species =',species)\n",
    "print('***species entry dtype*** =',species.dtype)"
   ]
  },
  {
   "cell_type": "code",
   "execution_count": null,
   "metadata": {
    "ExecuteTime": {
     "end_time": "2020-08-24T19:15:31.495977Z",
     "start_time": "2020-08-24T19:15:31.485767Z"
    },
    "slideshow": {
     "slide_type": "slide"
    }
   },
   "outputs": [],
   "source": [
    "'''Build an ndarray with the workhorse \"np.linspace()\" method'''\n",
    "\n",
    "mole_vec = np.linspace(1e-3, 1.0, 6)         # linspace() is a method of numpy\n",
    "\n",
    "print('mole_vec type =',type(mole_vec))        # type introspection in python\n",
    "print('mole_vec length =',mole_vec.size)       # vector length or size\n",
    "print('mole_vec =',mole_vec)\n",
    "print('mole_vec entry dtype =',mole_vec.dtype) # inquire about the internal data type in numpy"
   ]
  },
  {
   "cell_type": "code",
   "execution_count": null,
   "metadata": {
    "ExecuteTime": {
     "end_time": "2020-08-24T19:15:31.495977Z",
     "start_time": "2020-08-24T19:15:31.485767Z"
    },
    "slideshow": {
     "slide_type": "slide"
    }
   },
   "outputs": [],
   "source": [
    "'''Now create a mole fraction data array'''\n",
    "\n",
    "mole_sum = mole_vec.sum()                 # \"sum()\" method adds all elements in \"mole_vec\"\n",
    "mole_frac = mole_vec / mole_sum           # operation: the \"mole_vec\" array is divided by the \"mole_sum\"\n",
    "print('')\n",
    "print('mole_frac =',mole_frac)\n",
    "print('sum       =',mole_frac.sum())      # using sum method of mole_frac"
   ]
  },
  {
   "cell_type": "code",
   "execution_count": null,
   "metadata": {
    "ExecuteTime": {
     "end_time": "2020-08-24T19:15:32.735156Z",
     "start_time": "2020-08-24T19:15:32.732845Z"
    }
   },
   "outputs": [],
   "source": [
    "#dir(mole_frac)   # list of methods and attributes available for the `mole_frac` object"
   ]
  },
  {
   "cell_type": "code",
   "execution_count": null,
   "metadata": {
    "ExecuteTime": {
     "end_time": "2020-08-24T19:15:33.586152Z",
     "start_time": "2020-08-24T19:15:33.583925Z"
    }
   },
   "outputs": [],
   "source": [
    "#help(mole_frac.sum)  # help for the sum method of `mole_frac` or `ndarray`"
   ]
  },
  {
   "cell_type": "code",
   "execution_count": null,
   "metadata": {
    "ExecuteTime": {
     "end_time": "2020-08-24T19:15:34.194756Z",
     "start_time": "2020-08-24T19:15:34.192480Z"
    },
    "slideshow": {
     "slide_type": "slide"
    }
   },
   "outputs": [],
   "source": [
    "#help(np.sum)  # help for the build-in function in `numpy`"
   ]
  },
  {
   "cell_type": "code",
   "execution_count": null,
   "metadata": {
    "ExecuteTime": {
     "end_time": "2020-08-24T19:15:34.856584Z",
     "start_time": "2020-08-24T19:15:34.853781Z"
    }
   },
   "outputs": [],
   "source": [
    "print('sum =', np.sum(mole_frac))   # another way to sum using numpy built-in function np.sum()"
   ]
  },
  {
   "cell_type": "code",
   "execution_count": null,
   "metadata": {
    "ExecuteTime": {
     "end_time": "2020-08-24T19:15:35.619874Z",
     "start_time": "2020-08-24T19:15:35.613863Z"
    },
    "slideshow": {
     "slide_type": "slide"
    }
   },
   "outputs": [],
   "source": [
    "'''Accessing \"ndarray\" data with the indexing operator []'''\n",
    "\n",
    "print('mole_frac    =\\n',mole_frac,'\\n')\n",
    "print('mole_frac[0] =',mole_frac[0])   # access the offset 0 item\n",
    "print('mole_frac[4] =',mole_frac[4])   # access the offset 4 item\n",
    "\n",
    "'''Accessing slices'''\n",
    "print('')\n",
    "print('mole_frac[3:6]       =', mole_frac[3:6])    # print from index 3 to index 6-1\n",
    "\n",
    "'''Modify slice data'''\n",
    "\n",
    "mole_frac[3:6] *= 3.2                              # modify the slice by multiplying in-place by 3.2\n",
    "print('mole_frac[3:6] * 3.2 =', mole_frac[3:6])    # print result\n",
    "\n",
    "# same as this\n",
    "#tmp = mole_frac[3:6] * 3.2\n",
    "#mole_frac[3:6] = tmp"
   ]
  },
  {
   "cell_type": "code",
   "execution_count": null,
   "metadata": {
    "ExecuteTime": {
     "end_time": "2020-08-24T19:15:36.650078Z",
     "start_time": "2020-08-24T19:15:36.642368Z"
    }
   },
   "outputs": [],
   "source": [
    "'''Vector magnitude'''\n",
    "\n",
    "'''one way'''\n",
    "tmp = mole_frac * mole_frac              # element-by-element multiplication of the vector\n",
    "print('tmp =\\n',tmp,'\\n')\n",
    "\n",
    "mag = np.sqrt( tmp.sum() )               # sum of all elements in tmp and take the sqrt\n",
    "print('magnitude of mole_frac = ', mag )"
   ]
  },
  {
   "cell_type": "code",
   "execution_count": null,
   "metadata": {
    "ExecuteTime": {
     "end_time": "2020-08-24T19:15:36.650078Z",
     "start_time": "2020-08-24T19:15:36.642368Z"
    }
   },
   "outputs": [],
   "source": [
    "'''Vector magnitude another way'''\n",
    "\n",
    "mag = np.sqrt( np.dot(mole_frac, mole_frac) )  # use the scalar product\n",
    "print('magnitude of mole_frac = ', mag )"
   ]
  },
  {
   "cell_type": "markdown",
   "metadata": {},
   "source": [
    "<a id=\"nb\"></a>\n",
    "<div class=\"alert alert-block alert-danger\">\n",
    "NB: Shared data concept in vectors extend to all arrays.\n",
    "</div>"
   ]
  },
  {
   "cell_type": "code",
   "execution_count": null,
   "metadata": {
    "ExecuteTime": {
     "end_time": "2020-08-24T19:15:41.827905Z",
     "start_time": "2020-08-24T19:15:41.822031Z"
    }
   },
   "outputs": [],
   "source": [
    "'''Vector View (Shared Data)'''\n",
    "\n",
    "a_vec = np.random.random(6)  # useful of obtaining random data (0.0 to 1.0)     \n",
    "print('a_vec =', a_vec)\n",
    "\n",
    "b_vec = a_vec           # this is a \"view\" or alias of the entire a_vec\n",
    "\n",
    "b_vec[1] = 0.0          # this will change a_vec too\n",
    "print('b_vec =', b_vec)"
   ]
  },
  {
   "cell_type": "code",
   "execution_count": null,
   "metadata": {
    "ExecuteTime": {
     "end_time": "2020-08-24T19:15:44.463626Z",
     "start_time": "2020-08-24T19:15:44.459672Z"
    }
   },
   "outputs": [],
   "source": [
    "print('a_vec =', a_vec)"
   ]
  },
  {
   "cell_type": "code",
   "execution_count": null,
   "metadata": {
    "ExecuteTime": {
     "end_time": "2020-08-24T19:15:45.043144Z",
     "start_time": "2020-08-24T19:15:45.035704Z"
    }
   },
   "outputs": [],
   "source": [
    "'''Vector View (Shared Data)'''\n",
    "\n",
    "a_vec = np.random.random(6)       \n",
    "print('a_vec =', a_vec)\n",
    "\n",
    "print('')\n",
    "b_vec = a_vec[3:6]      # this is a view of a_vec data; not a copy\n",
    "print('b_vec =', b_vec)\n",
    "\n",
    "b_vec[:] = 0            # setting all elements of b_vec to zero\n",
    "print('b_vec =', b_vec)\n",
    "\n",
    "print('a_vec =', a_vec) # a_vec is also changed; shared data\n",
    "\n",
    "b_vec = 1              # this assigns a new object to b_vec\n",
    "print('b_vec =', b_vec)\n",
    "\n",
    "print('a_vec =', a_vec) # note a_vec is left as before b_vec reassigned"
   ]
  },
  {
   "cell_type": "markdown",
   "metadata": {},
   "source": [
    "**If you intend to use a copy of the data, use the `np.copy()` method**"
   ]
  },
  {
   "cell_type": "code",
   "execution_count": null,
   "metadata": {
    "ExecuteTime": {
     "end_time": "2020-08-24T19:15:46.819854Z",
     "start_time": "2020-08-24T19:15:46.812443Z"
    }
   },
   "outputs": [],
   "source": [
    "'''Vector Copy'''\n",
    "\n",
    "a_vec = np.random.random(8)\n",
    "print('a_vec =', a_vec)\n",
    "\n",
    "b_vec = np.copy(a_vec)      # this is an independent copy of a_vec\n",
    "\n",
    "b_vec[0] = 0.0              # this will change mole_frac too\n",
    "print('b_vec =', b_vec)\n",
    "\n",
    "print('')\n",
    "print('a_vec =', a_vec)"
   ]
  },
  {
   "cell_type": "markdown",
   "metadata": {
    "slideshow": {
     "slide_type": "slide"
    }
   },
   "source": [
    "### [Two-dimensional array (or matrix)](#toc)<a id=\"2d\"></a>\n",
    "A two-dimensional array or matrix, is a collection of data types ordered into rows and columns."
   ]
  },
  {
   "cell_type": "code",
   "execution_count": null,
   "metadata": {
    "ExecuteTime": {
     "end_time": "2020-08-24T19:15:48.705214Z",
     "start_time": "2020-08-24T19:15:48.697806Z"
    },
    "slideshow": {
     "slide_type": "slide"
    }
   },
   "outputs": [],
   "source": [
    "'''Using \"array()\" to create a 2-D \"np.ndarray\"'''\n",
    "\n",
    "# create a native Python list of lists \n",
    "data = [ [4.5, 8  , 90, 1e12, 2.3e-5, -8  ],    # note line continuation\n",
    "         [0  , 3.1, 10, 3000, 0.1234, -1.2],\n",
    "         [3  , 5.9, 40, 1e-2, 2.3301, 78  ]\n",
    "       ]\n",
    "mass_cc = np.array(data)   # use the np.array( ) method to create the array\n",
    "\n",
    "print('mass_cc type =',type(mass_cc))\n",
    "print('mass_cc length =',mass_cc.size)        # check size with help(np.size)\n",
    "print('mass_cc shape =',mass_cc.shape)        # check shape with help(np.shape)\n",
    "print('mass_cc =\\n',mass_cc)\n",
    "print('mass_cc entry dtype =',mass_cc.dtype)  # check type with help(np.dtype)"
   ]
  },
  {
   "cell_type": "code",
   "execution_count": null,
   "metadata": {
    "ExecuteTime": {
     "end_time": "2020-08-24T19:15:49.597029Z",
     "start_time": "2020-08-24T19:15:49.589511Z"
    }
   },
   "outputs": [],
   "source": [
    "'''Not a matrix'''\n",
    "\n",
    "data = [ [4.5,   8, 90, 1e12, 2.3e-5,   -8     ],          # note line continuation\n",
    "         [0  , 3.1, 10, 3000, 0.1234, -1.2, 7.8],   # note extra element in this row; could be unintentional\n",
    "         [3  , 5.9, 40, 1e-2, 2.3301,   78     ]\n",
    "       ]\n",
    "not_mtrx = np.array(data)\n",
    "\n",
    "print('not_mtrx type =',type(not_mtrx))\n",
    "print('not_mtrx length =',not_mtrx.size)        # check size with help(np.size)\n",
    "print('not_mtrx shape =',not_mtrx.shape)        # check shape with help(np.shape)\n",
    "print('not_mtrx =\\n',not_mtrx)\n",
    "print('not_mtrx entry dtype =',not_mtrx.dtype)  # check type with help(np.dtype)"
   ]
  },
  {
   "cell_type": "code",
   "execution_count": null,
   "metadata": {
    "ExecuteTime": {
     "end_time": "2020-08-24T19:15:50.156309Z",
     "start_time": "2020-08-24T19:15:50.152600Z"
    },
    "slideshow": {
     "slide_type": "slide"
    }
   },
   "outputs": [],
   "source": [
    "'''Access elements of the 2-D array; use double indexing, e.g., name[i,j]'''\n",
    "# i -> row index\n",
    "# j -> column index\n",
    "\n",
    "print('mass_cc[0,0] =', mass_cc[0,0])   # single element on the diagonal 0,0\n",
    "print('mass_cc[1,1] =', mass_cc[1,1])   # single element on the diagonal 1,1"
   ]
  },
  {
   "cell_type": "code",
   "execution_count": null,
   "metadata": {
    "ExecuteTime": {
     "end_time": "2020-08-24T19:15:50.685252Z",
     "start_time": "2020-08-24T19:15:50.678955Z"
    }
   },
   "outputs": [],
   "source": [
    "'''More on using \"array()\" to create a 2-D \"np.ndarray\"'''\n",
    "\n",
    "# create a native Python list of 5-element objects \n",
    "data = [ np.linspace(1,5,5),         # first row   5 elements\n",
    "         range(5),                   # second row  5 elements\n",
    "         np.random.random(5)*3.0     # third row   5 elements  \n",
    "       ]\n",
    "mass_cc = np.array(data)\n",
    "print('mass_cc type =',type(mass_cc))\n",
    "print('mass_cc shape =',mass_cc.shape)        # check shape with help(np.shape)\n",
    "print('mass_cc length =',mass_cc.size)        # check size with help(np.size)\n",
    "print('mass_cc =\\n',mass_cc)\n",
    "print('mass_cc entry dtype =',mass_cc.dtype)  # check type with help(np.dtype)"
   ]
  },
  {
   "cell_type": "code",
   "execution_count": null,
   "metadata": {
    "ExecuteTime": {
     "end_time": "2020-08-24T19:15:51.439019Z",
     "start_time": "2020-08-24T19:15:51.429900Z"
    },
    "scrolled": false,
    "slideshow": {
     "slide_type": "slide"
    }
   },
   "outputs": [],
   "source": [
    "'''Views of the 2-D array'''\n",
    "\n",
    "print('mass_cc 1st row =',mass_cc[0,:])  # use the colon operator inside the indexing operator\n",
    "print('mass_cc 2nd row =',mass_cc[1,:])  # use the colon operator inside the indexing operator\n",
    "print('mass_cc 3nd row =',mass_cc[2,:])  # use the colon operator inside the indexing operator\n",
    "print('')\n",
    "print('mass_cc 1st column =',mass_cc[:,0])  # use the colon operator inside the indexing operator\n",
    "print('mass_cc 2nd column =',mass_cc[:,1])  # use the colon operator inside the indexing operator\n",
    "print('mass_cc 3rd column =',mass_cc[:,2])  # use the colon operator inside the indexing operator\n",
    "print('mass_cc 4th column =',mass_cc[:,3])  # use the colon operator inside the indexing operator\n",
    "print('mass_cc 5th column =',mass_cc[:,4])  # use the colon operator inside the indexing operator"
   ]
  },
  {
   "cell_type": "markdown",
   "metadata": {},
   "source": [
    "#### Visualization of matrices with [Matplotlib](https://matplotlib.org/index.html)<a id=\"plot\"></a>\n",
    "\n",
    "All packages in Python are imported into your session using the `import` *statement*.\n",
    "<div class=\"alert alert-block alert-info\">\n",
    "Plotting for the most part will use the Python package `Matplotlib`.\n",
    "</div>"
   ]
  },
  {
   "cell_type": "code",
   "execution_count": null,
   "metadata": {
    "ExecuteTime": {
     "end_time": "2020-08-24T19:15:52.972821Z",
     "start_time": "2020-08-24T19:15:52.968463Z"
    },
    "scrolled": false
   },
   "outputs": [],
   "source": [
    "'''Example: visualize a matrix as image'''\n",
    "\n",
    "'''scale the matrix to 0-1'''\n",
    "#tmp = mass_cc / mass_cc.max()    # element by element division\n",
    "#mass_cc = tmp                    # reassigment\n",
    "mass_cc /= mass_cc.max()          # scaling on the fly; same as previous two\n",
    "\n",
    "'''scale the matrix to 0-255'''\n",
    "mass_cc *= 255\n",
    "\n",
    "print(mass_cc)"
   ]
  },
  {
   "cell_type": "code",
   "execution_count": null,
   "metadata": {
    "ExecuteTime": {
     "end_time": "2020-08-24T19:16:28.229127Z",
     "start_time": "2020-08-24T19:16:28.023248Z"
    },
    "scrolled": false
   },
   "outputs": [],
   "source": [
    "'''Visualize the matrix'''\n",
    "\n",
    "from matplotlib import pyplot as plt  # import the pyplot function of the matplotlib package\n",
    "%matplotlib inline\n",
    "\n",
    "plt.figure(1)     # create a figure placeholder\n",
    "\n",
    "# show data as an image (as opposed to a plot)\n",
    "plt.imshow( mass_cc, cmap='gray' ) # method call with arguments: mass_cc, a \"named\" argument cmap\n",
    "\n",
    "plt.show()"
   ]
  },
  {
   "cell_type": "code",
   "execution_count": null,
   "metadata": {
    "ExecuteTime": {
     "end_time": "2020-08-24T19:15:54.672343Z",
     "start_time": "2020-08-24T19:15:54.668834Z"
    }
   },
   "outputs": [],
   "source": [
    "print('mass_cc upper left quadrant =\\n', mass_cc[0:2,0:2])"
   ]
  },
  {
   "cell_type": "code",
   "execution_count": null,
   "metadata": {
    "ExecuteTime": {
     "end_time": "2020-08-24T19:15:55.661450Z",
     "start_time": "2020-08-24T19:15:55.657935Z"
    }
   },
   "outputs": [],
   "source": [
    "print('mass_cc upper right quadrant =\\n', mass_cc[0:2,-2:])"
   ]
  },
  {
   "cell_type": "code",
   "execution_count": null,
   "metadata": {
    "ExecuteTime": {
     "end_time": "2020-08-24T19:16:44.866432Z",
     "start_time": "2020-08-24T19:16:44.863049Z"
    }
   },
   "outputs": [],
   "source": [
    "'''Zeros matrix'''\n",
    "\n",
    "mass_cc = np.zeros( (4,3) )     # 4x3 matrix with zeros\n",
    "print('zero matrix (4,3) =\\n',mass_cc)"
   ]
  },
  {
   "cell_type": "code",
   "execution_count": null,
   "metadata": {
    "ExecuteTime": {
     "end_time": "2020-08-24T19:16:45.665777Z",
     "start_time": "2020-08-24T19:16:45.662205Z"
    }
   },
   "outputs": [],
   "source": [
    "'''Identity matrix: I (\"square\"; i.e.: m x m or m rows and m columns)'''\n",
    "\n",
    "mass_cc = np.eye(4,4)\n",
    "print('identity matrix (4,4) =\\n',mass_cc)"
   ]
  },
  {
   "cell_type": "code",
   "execution_count": null,
   "metadata": {
    "ExecuteTime": {
     "end_time": "2020-08-24T19:16:46.232116Z",
     "start_time": "2020-08-24T19:16:46.228417Z"
    }
   },
   "outputs": [],
   "source": [
    "'''Diagonal matrix (square; m x m, m rows and m columns)'''\n",
    "\n",
    "mass_cc = np.diag( range(7) )    # provide the diagonal as a vector\n",
    "print('diagonal (7x7) =\\n',mass_cc)"
   ]
  },
  {
   "cell_type": "code",
   "execution_count": null,
   "metadata": {
    "ExecuteTime": {
     "end_time": "2020-08-24T19:16:46.795636Z",
     "start_time": "2020-08-24T19:16:46.790329Z"
    }
   },
   "outputs": [],
   "source": [
    "'''Extract the diagonal of a matrix (square; m x m, m rows and m columns)'''\n",
    "\n",
    "print('diagonal = ', np.diagonal(mass_cc))\n",
    "print('diagonal = ', mass_cc.diagonal())"
   ]
  },
  {
   "cell_type": "code",
   "execution_count": null,
   "metadata": {
    "ExecuteTime": {
     "end_time": "2020-08-24T19:16:47.503715Z",
     "start_time": "2020-08-24T19:16:47.501217Z"
    }
   },
   "outputs": [],
   "source": [
    "#help(np.diagonal)"
   ]
  },
  {
   "cell_type": "code",
   "execution_count": null,
   "metadata": {
    "ExecuteTime": {
     "end_time": "2020-08-24T19:16:48.000542Z",
     "start_time": "2020-08-24T19:16:47.881937Z"
    }
   },
   "outputs": [],
   "source": [
    "'''Visualize a matrix as image'''\n",
    "from matplotlib import pyplot as plt # import the pyplot function of the matplotlib package\n",
    "\n",
    "plt.figure(2)                      # create a figure placeholder\n",
    "\n",
    "plt.imshow( mass_cc, cmap='gray' ) # show image data\n",
    "\n",
    "plt.show()"
   ]
  },
  {
   "cell_type": "markdown",
   "metadata": {
    "slideshow": {
     "slide_type": "slide"
    }
   },
   "source": [
    "### [Three-dimensional array (brick)](#toc)<a id=\"3d\"></a>"
   ]
  },
  {
   "cell_type": "code",
   "execution_count": null,
   "metadata": {
    "ExecuteTime": {
     "end_time": "2020-08-24T19:16:49.264215Z",
     "start_time": "2020-08-24T19:16:49.256391Z"
    },
    "slideshow": {
     "slide_type": "slide"
    }
   },
   "outputs": [],
   "source": [
    "'''Using \"array()\" to create a 3-D \"np.ndarray\"'''\n",
    "\n",
    "# create a native Python list of lists of lists\n",
    "\n",
    "data = [\n",
    "        [ [4.5,   8, 90, 1e12, 2.3e-5],    # 1st matrix\n",
    "          [0  , 3.1, 10, 3000, 0.1234]\n",
    "        ],\n",
    "        [ [2.1,   -7, 31, 2e12, 0.22],     # second matrix\n",
    "          [  0,  1.1, 21, 3876, 1024]\n",
    "        ],\n",
    "        [ [1,   -7,  4,    0, 0.22],     # third matrix\n",
    "          [0,  1.1, 21, -3e4, -234]\n",
    "        ]\n",
    "       ]\n",
    "mass_cc = np.array(data)                      # create the ndarray\n",
    "print('mass_cc type =',type(mass_cc))\n",
    "print('mass_cc length =',mass_cc.size)        # check size with help(np.size)\n",
    "print('mass_cc shape =',mass_cc.shape)        # check shape with help(np.shape)\n",
    "print('mass_cc =\\n',mass_cc)\n",
    "print('mass_cc entry dtype =',mass_cc.dtype)  # check type with help(np.dtype)"
   ]
  },
  {
   "cell_type": "code",
   "execution_count": null,
   "metadata": {
    "ExecuteTime": {
     "end_time": "2020-08-24T19:16:50.028477Z",
     "start_time": "2020-08-24T19:16:50.025120Z"
    }
   },
   "outputs": [],
   "source": [
    "'''Access elements of the 3-D array; use triple indexing, e.g., variable_name[k,i,j]'''\n",
    "# k -> depth index (stacking)\n",
    "# i -> row index\n",
    "# j -> column index\n",
    "\n",
    "print('mass_cc[0,0,0] =',mass_cc[0,0,0])\n",
    "print('mass_cc[2,1,4] =',mass_cc[2,1,4])"
   ]
  },
  {
   "cell_type": "code",
   "execution_count": null,
   "metadata": {
    "ExecuteTime": {
     "end_time": "2020-08-24T19:16:50.684997Z",
     "start_time": "2020-08-24T19:16:50.679521Z"
    }
   },
   "outputs": [],
   "source": [
    "'''Views of the 3-D array'''\n",
    "\n",
    "print('mass_cc 1st stack =\\n',mass_cc[0,:,:],'\\n') # use the colon operator inside the indexing operator\n",
    "\n",
    "print('mass_cc 2nd stack =\\n',mass_cc[1,:,:],'\\n') # use the colon operator inside the indexing operator\n",
    "\n",
    "print('mass_cc 3rd stack =\\n',mass_cc[2,:,:],'\\n') # use the colon operator inside the indexing operator"
   ]
  },
  {
   "cell_type": "code",
   "execution_count": null,
   "metadata": {
    "ExecuteTime": {
     "end_time": "2020-08-24T19:16:51.321631Z",
     "start_time": "2020-08-24T19:16:51.317025Z"
    }
   },
   "outputs": [],
   "source": [
    "'''3D Array of Random Numbers'''\n",
    "\n",
    "# Say this is a result of an experiment measuring mass concentrations for multiple cases\n",
    "mass_cc = np.random.random( (4,5,6) ) # random number generator in NumPy; pass only one argument; say tuple or list\n",
    "mass_cc *= 255\n",
    "mass_cc = mass_cc.astype(int)  # assign int data type\n",
    "print('mass_cc =\\n', mass_cc)\n",
    "print('mass_cc shape =', mass_cc.shape)"
   ]
  },
  {
   "cell_type": "code",
   "execution_count": null,
   "metadata": {
    "ExecuteTime": {
     "end_time": "2020-08-24T19:16:51.924235Z",
     "start_time": "2020-08-24T19:16:51.921109Z"
    }
   },
   "outputs": [],
   "source": [
    "'''Produce subplots for all matrix slices'''\n",
    "#help(plt.subplot)"
   ]
  },
  {
   "cell_type": "code",
   "execution_count": null,
   "metadata": {
    "ExecuteTime": {
     "end_time": "2020-08-24T19:16:53.267807Z",
     "start_time": "2020-08-24T19:16:52.842986Z"
    }
   },
   "outputs": [],
   "source": [
    "'''Visualize a 3-D Data Block'''\n",
    "\n",
    "import numpy as np\n",
    "from matplotlib import pyplot as plt     # import the pyplot function of the matplotlib package\n",
    "\n",
    "plt.rcParams['figure.figsize'] = [20, 4] # extend the figure size on screen output\n",
    "\n",
    "plt.figure(3)   # create a figure placeholder\n",
    "\n",
    "plt.subplot(1,4,1)   # layout of plots: 1 row 4 columns\n",
    "\n",
    "plt.imshow( mass_cc[0,:,:],cmap='gray' )  # show the 1st stack\n",
    "\n",
    "plt.title('Experiment 1',fontsize=14)\n",
    "plt.xlabel('species cc',fontsize=12)\n",
    "plt.ylabel('time',fontsize=12)\n",
    "\n",
    "plt.subplot(1,4,2)\n",
    "\n",
    "plt.imshow( mass_cc[1,:,:],cmap='gray' ) # show the 2nd stack\n",
    "\n",
    "plt.title('Experiment 2',fontsize=14)\n",
    "plt.xlabel('species cc',fontsize=12)\n",
    "plt.ylabel('time',fontsize=12)\n",
    "\n",
    "plt.subplot(1,4,3)\n",
    "\n",
    "plt.imshow( mass_cc[2,:,:],cmap='gray' ) # show the 3rd stack\n",
    "\n",
    "plt.title('Experiment 3',fontsize=14)\n",
    "plt.xlabel('species cc',fontsize=12)\n",
    "plt.ylabel('time',fontsize=12)\n",
    "\n",
    "plt.subplot(1,4,4)\n",
    "\n",
    "plt.imshow( mass_cc[3,:,:],cmap='gray' ) # show the 4th stack\n",
    "\n",
    "plt.title('Experiment 4',fontsize=14)\n",
    "plt.xlabel('species cc',fontsize=12)\n",
    "plt.ylabel('time',fontsize=12)\n",
    "\n",
    "plt.show()"
   ]
  },
  {
   "cell_type": "code",
   "execution_count": null,
   "metadata": {
    "ExecuteTime": {
     "end_time": "2020-08-24T19:16:54.566950Z",
     "start_time": "2020-08-24T19:16:54.180015Z"
    },
    "scrolled": true
   },
   "outputs": [],
   "source": [
    "'''Automate the Visualization of a 3D Block of Data'''\n",
    "\n",
    "plt.figure(4)   # create a figure place holder\n",
    "\n",
    "n_rows = 1                     # number of rows for plotting\n",
    "n_columns = mass_cc.shape[0]   # number of columns for plotting\n",
    "print('mass_cc shape =', mass_cc.shape)\n",
    "\n",
    "# \"loop\": execution flow control\n",
    "for i in range(n_columns):\n",
    "    \n",
    "    plt.subplot( n_rows, n_columns, i+1 )      # create subplot\n",
    "    \n",
    "    plt.imshow( mass_cc[i,:,:], cmap='gray' ) # show data in subplot\n",
    "    \n",
    "    plt.title('Experiment '+str(i+1),fontsize=14)\n",
    "    plt.xlabel('species cc',fontsize=12)\n",
    "    plt.ylabel('time',fontsize=12)\n",
    "\n",
    "plt.show()"
   ]
  },
  {
   "cell_type": "code",
   "execution_count": null,
   "metadata": {
    "ExecuteTime": {
     "end_time": "2020-08-24T19:16:55.220223Z",
     "start_time": "2020-08-24T19:16:55.217755Z"
    }
   },
   "outputs": [],
   "source": [
    "#help(plt.imshow)"
   ]
  },
  {
   "cell_type": "code",
   "execution_count": null,
   "metadata": {
    "ExecuteTime": {
     "end_time": "2020-08-24T19:16:56.147223Z",
     "start_time": "2020-08-24T19:16:55.850941Z"
    },
    "scrolled": true
   },
   "outputs": [],
   "source": [
    "'''Color Image as a 3D Block Array'''\n",
    "\n",
    "# Another example of block array data structure\n",
    "\n",
    "plt.figure(5)       # create a figure place holder\n",
    "\n",
    "color_image = np.random.random( (800,1200,3) )  # 3 channels: R, G, B\n",
    "\n",
    "plt.imshow( color_image )\n",
    "plt.title('Noisy Color Image (3D Block)',fontsize=14)\n",
    "\n",
    "plt.show()"
   ]
  },
  {
   "cell_type": "markdown",
   "metadata": {
    "slideshow": {
     "slide_type": "slide"
    }
   },
   "source": [
    "## [Array Slicing (or Views; see [NB](#nb))](#toc)<a id=\"views\"></a>\n",
    "Slicing or views are subset of data contained in a given array. Data is accessed using indexing operation, `[]`, in conjunction with the colon operator `:`."
   ]
  },
  {
   "cell_type": "code",
   "execution_count": null,
   "metadata": {
    "ExecuteTime": {
     "end_time": "2020-08-24T19:16:58.144580Z",
     "start_time": "2020-08-24T19:16:57.880192Z"
    }
   },
   "outputs": [],
   "source": [
    "'''Visualize Data Slice in 3D'''\n",
    "\n",
    "color_image[380:420,:,:] = 0   # black color stripe\n",
    "\n",
    "plt.figure(6)\n",
    "plt.imshow( color_image )\n",
    "plt.show()"
   ]
  },
  {
   "cell_type": "code",
   "execution_count": null,
   "metadata": {
    "ExecuteTime": {
     "end_time": "2020-08-24T19:16:58.552292Z",
     "start_time": "2020-08-24T19:16:58.549338Z"
    }
   },
   "outputs": [],
   "source": [
    "'''Image Reading into a Python Session'''\n",
    "\n",
    "#help(plt.imread)   # use the matplotlib package"
   ]
  },
  {
   "cell_type": "code",
   "execution_count": null,
   "metadata": {
    "ExecuteTime": {
     "end_time": "2020-08-24T19:16:59.381121Z",
     "start_time": "2020-08-24T19:16:59.219355Z"
    }
   },
   "outputs": [],
   "source": [
    "'''3-D Block Visualization of Color Images'''\n",
    "\n",
    "# Read image from the images/ directory in the chen-3170 repo\n",
    "block = plt.imread( 'images/glacier.png', format='png' )\n",
    "\n",
    "#wrk_copy = np.copy(block) # if a copy is needed to work on the data\n",
    "\n",
    "plt.imshow(block)\n",
    "print('block type =',type(block))  # inspect the array shape\n",
    "print('block shape =',block.shape)  # inspect the array shape\n",
    "\n",
    "plt.imshow(block)\n",
    "plt.show()"
   ]
  },
  {
   "cell_type": "code",
   "execution_count": null,
   "metadata": {
    "ExecuteTime": {
     "end_time": "2020-08-24T19:17:00.146495Z",
     "start_time": "2020-08-24T19:17:00.007045Z"
    }
   },
   "outputs": [],
   "source": [
    "'''Vertical Slice (View)'''\n",
    "\n",
    "r_vec = block[:,200,0] # slice the red channel (stack) at column 200\n",
    "g_vec = block[:,200,1] # slice the green channel (stack) at column 200\n",
    "b_vec = block[:,200,2] # slice the blue channel (stack) at column 200\n",
    "\n",
    "n_pixels = block.shape[0] # get number of pixels in the image's vertical direction\n",
    "\n",
    "plt.plot( range(n_pixels), r_vec,'r', g_vec,'g', b_vec,'b') # plot all three slices\n",
    "\n",
    "plt.title('Vertical Slices per Color Channel',fontsize=14)\n",
    "plt.xlabel('pixel',fontsize=12)\n",
    "plt.ylabel('intensity',fontsize=12)\n",
    "\n",
    "plt.show()"
   ]
  },
  {
   "cell_type": "code",
   "execution_count": null,
   "metadata": {
    "ExecuteTime": {
     "end_time": "2020-08-24T19:17:00.894679Z",
     "start_time": "2020-08-24T19:17:00.748530Z"
    }
   },
   "outputs": [],
   "source": [
    "'''Indicate the Vertical Slice Position'''\n",
    "\n",
    "block_mod = block        # note block_mod shares data with block\n",
    "block_mod[:,200,:] = 0\n",
    "plt.imshow(block_mod)\n",
    "plt.title('Vertical Line at Pixel 200',fontsize=14)\n",
    "plt.show()"
   ]
  },
  {
   "cell_type": "code",
   "execution_count": null,
   "metadata": {
    "ExecuteTime": {
     "end_time": "2020-08-24T19:17:03.442775Z",
     "start_time": "2020-08-24T19:17:03.300143Z"
    }
   },
   "outputs": [],
   "source": [
    "'''Change Color of the Vertical Line'''\n",
    "\n",
    "block_mod[:,200,0] = 1   # set the red channel to 1\n",
    "block_mod[:,200,1] = 0   # set the others to zero (already were)\n",
    "block_mod[:,200,2] = 0\n",
    "plt.imshow(block_mod)\n",
    "plt.title('Red Vertical Line at Pixel 200',fontsize=14)\n",
    "plt.show()"
   ]
  },
  {
   "cell_type": "code",
   "execution_count": null,
   "metadata": {
    "ExecuteTime": {
     "end_time": "2020-08-24T19:17:04.026912Z",
     "start_time": "2020-08-24T19:17:03.903938Z"
    }
   },
   "outputs": [],
   "source": [
    "'''Create a View of the Data'''\n",
    "\n",
    "sub_block = block[:100,:100,:]  # upper left 100x100 sub-block of the data\n",
    "plt.imshow(sub_block)\n",
    "plt.title('Upper Left 100x100 Block',fontsize=14)\n",
    "plt.show()"
   ]
  },
  {
   "cell_type": "code",
   "execution_count": null,
   "metadata": {
    "ExecuteTime": {
     "end_time": "2020-08-24T19:17:04.718014Z",
     "start_time": "2020-08-24T19:17:04.571924Z"
    }
   },
   "outputs": [],
   "source": [
    "'''Mask the 100x100 Data'''\n",
    "\n",
    "masked = block           # shared data\n",
    "\n",
    "masked[100:,:,:] = 0     # lower sub-block mask\n",
    "plt.imshow(masked)\n",
    "\n",
    "masked[:,100:,:] = 0     # right sub-block mask\n",
    "plt.imshow(masked)\n",
    "\n",
    "plt.title('Upper Left 100x100 Mask',fontsize=14)\n",
    "plt.show()"
   ]
  },
  {
   "cell_type": "code",
   "execution_count": null,
   "metadata": {
    "ExecuteTime": {
     "end_time": "2020-08-24T19:17:05.587577Z",
     "start_time": "2020-08-24T19:17:05.435082Z"
    }
   },
   "outputs": [],
   "source": [
    "'''Red Mask the 100x100 Data'''\n",
    "\n",
    "masked = block\n",
    "\n",
    "masked[100:,:,0] = 1     # lower sub-block mask\n",
    "plt.imshow(masked)\n",
    "masked[:,100:,0] = 1     # right sub-block mask\n",
    "plt.imshow(masked)\n",
    "\n",
    "plt.title('Upper Left 100x100 Red Mask',fontsize=14)\n",
    "plt.show()"
   ]
  },
  {
   "cell_type": "code",
   "execution_count": null,
   "metadata": {
    "ExecuteTime": {
     "end_time": "2020-08-24T19:17:06.702182Z",
     "start_time": "2020-08-24T19:17:06.568524Z"
    }
   },
   "outputs": [],
   "source": [
    "'''View the Original Block'''\n",
    "\n",
    "plt.imshow(block)  # the image has been modified all along\n",
    "plt.title('Original Has Been Modified',fontsize=14)\n",
    "plt.show()"
   ]
  },
  {
   "cell_type": "markdown",
   "metadata": {},
   "source": [
    "### Sampling or Filtering<a id=\"sampling\"></a>"
   ]
  },
  {
   "cell_type": "code",
   "execution_count": null,
   "metadata": {
    "ExecuteTime": {
     "end_time": "2020-08-24T19:17:09.617982Z",
     "start_time": "2020-08-24T19:17:09.457634Z"
    }
   },
   "outputs": [],
   "source": [
    "'''Reload Block Data'''\n",
    "\n",
    "# Read image from the images/ directory in the chen-3170 repo\n",
    "block = plt.imread('images/glacier.png',format='png')\n",
    "\n",
    "plt.imshow(block)\n",
    "plt.title('Block Reloaded',fontsize=14)\n",
    "plt.show()\n",
    "print('block type =',type(block))  # inspect the array shape\n",
    "print('block shape =',block.shape)  # inspect the array shape"
   ]
  },
  {
   "cell_type": "code",
   "execution_count": null,
   "metadata": {
    "ExecuteTime": {
     "end_time": "2020-08-24T19:17:10.350277Z",
     "start_time": "2020-08-24T19:17:10.204011Z"
    }
   },
   "outputs": [],
   "source": [
    "'''Coarsening the Data; low pass filter'''\n",
    "\n",
    "coarse = block[::5,::5,:]   # use the step option in the colon operator indexing\n",
    "\n",
    "plt.imshow(coarse)\n",
    "plt.title('Low Pass Filtering I',fontsize=14)\n",
    "plt.show()\n",
    "print('coarse shape =', coarse.shape)"
   ]
  },
  {
   "cell_type": "code",
   "execution_count": null,
   "metadata": {
    "ExecuteTime": {
     "end_time": "2020-08-24T19:17:10.919764Z",
     "start_time": "2020-08-24T19:17:10.793474Z"
    }
   },
   "outputs": [],
   "source": [
    "'''More Coarsening of the Data; low pass filter'''\n",
    "\n",
    "very_coarse = block[::10,::10,:]\n",
    "\n",
    "plt.imshow(very_coarse)\n",
    "plt.title('Low Pass Filtering II',fontsize=14)\n",
    "plt.show()\n",
    "print('very_coarse =', very_coarse.shape)"
   ]
  },
  {
   "cell_type": "code",
   "execution_count": null,
   "metadata": {
    "ExecuteTime": {
     "end_time": "2020-08-24T19:17:11.455634Z",
     "start_time": "2020-08-24T19:17:11.321341Z"
    }
   },
   "outputs": [],
   "source": [
    "'''Reload the Vertical Slice (View)'''\n",
    "\n",
    "r_vec = block[:,200,0] # slice the red channel (stack) at column 200\n",
    "g_vec = block[:,200,1] # slice the green channel (stack) at column 200\n",
    "b_vec = block[:,200,2] # slice the blue channel (stack) at column 200\n",
    "\n",
    "plt.plot(range(block.shape[0]),r_vec,'r',g_vec,'g',b_vec,'b') # plot all three slices\n",
    "plt.title('Vertical Slices per Color Channel Again',fontsize=14)\n",
    "plt.xlabel('pixel',fontsize=12)\n",
    "plt.ylabel('intensity',fontsize=12)\n",
    "plt.show()"
   ]
  },
  {
   "cell_type": "code",
   "execution_count": null,
   "metadata": {
    "ExecuteTime": {
     "end_time": "2020-08-24T19:17:12.126256Z",
     "start_time": "2020-08-24T19:17:11.985859Z"
    }
   },
   "outputs": [],
   "source": [
    "'''Corsening the Vertical Slice (View)'''\n",
    "\n",
    "r_vec = block[::8,200,0] # slice the red channel (stack) at column 200\n",
    "g_vec = block[::8,200,1] # slice the green channel (stack) at column 200\n",
    "b_vec = block[::8,200,2] # slice the blue channel (stack) at column 200\n",
    "\n",
    "n_pixels = r_vec.size\n",
    "\n",
    "plt.plot(range(n_pixels),r_vec,'r',g_vec,'g',b_vec,'b') # plot all three slices\n",
    "plt.title('Low Pass Filter',fontsize=14)\n",
    "plt.xlabel('pixel',fontsize=12)\n",
    "plt.ylabel('intensity',fontsize=12)\n",
    "plt.show()"
   ]
  },
  {
   "cell_type": "markdown",
   "metadata": {},
   "source": [
    "TODO: explain usage of tuples on array indices\n",
    "for example notebook 07 on full rank sub-mechanisms\n",
    "\n",
    "s_mtrx_k = s_mtrx[r,:] # view of the matrix"
   ]
  },
  {
   "cell_type": "markdown",
   "metadata": {
    "slideshow": {
     "slide_type": "slide"
    }
   },
   "source": [
    "## [TODO: Notable Vectors](#toc)<a id=\"zeros\"></a>"
   ]
  },
  {
   "cell_type": "markdown",
   "metadata": {
    "slideshow": {
     "slide_type": "slide"
    }
   },
   "source": [
    "## [Notable Matrices](#toc)<a id=\"zeros\"></a>"
   ]
  },
  {
   "cell_type": "code",
   "execution_count": null,
   "metadata": {
    "ExecuteTime": {
     "end_time": "2020-08-24T19:17:22.442242Z",
     "start_time": "2020-08-24T19:17:22.438723Z"
    }
   },
   "outputs": [],
   "source": [
    "'''Zeros'''\n",
    "\n",
    "mtrx = np.zeros( (2,3) ) # single argument\n",
    "print('Ones matrix 2x3\\n',mtrx)"
   ]
  },
  {
   "cell_type": "code",
   "execution_count": null,
   "metadata": {
    "ExecuteTime": {
     "end_time": "2020-08-24T19:17:23.476408Z",
     "start_time": "2020-08-24T19:17:23.472443Z"
    }
   },
   "outputs": [],
   "source": [
    "'''Ones'''\n",
    "\n",
    "mtrx = np.ones( (4,3) )  # single argument\n",
    "print('Ones matrix 4x3\\n',mtrx)"
   ]
  },
  {
   "cell_type": "code",
   "execution_count": null,
   "metadata": {
    "ExecuteTime": {
     "end_time": "2020-08-24T19:17:23.860074Z",
     "start_time": "2020-08-24T19:17:23.855552Z"
    }
   },
   "outputs": [],
   "source": [
    "'''Identity (square)'''\n",
    "\n",
    "'''one way'''\n",
    "mtrx = np.eye(4)\n",
    "print('Identity matrx 4x4 \\n',mtrx)\n",
    "\n",
    "'''another way'''\n",
    "mtrx = np.diag( np.ones(4) )\n",
    "print('Identity matrix 4x4 \\n',mtrx)"
   ]
  },
  {
   "cell_type": "code",
   "execution_count": null,
   "metadata": {
    "ExecuteTime": {
     "end_time": "2020-08-24T19:17:24.081117Z",
     "start_time": "2020-08-24T19:17:24.077770Z"
    }
   },
   "outputs": [],
   "source": [
    "'''Help on Diagonal usage'''\n",
    "\n",
    "help(np.diag)"
   ]
  },
  {
   "cell_type": "code",
   "execution_count": null,
   "metadata": {
    "ExecuteTime": {
     "end_time": "2020-08-24T19:17:24.284159Z",
     "start_time": "2020-08-24T19:17:24.279155Z"
    }
   },
   "outputs": [],
   "source": [
    "'''Empty (not really)'''\n",
    "\n",
    "mtrx = np.empty( (6,5) )  # single argument\n",
    "print('Empty mtrx 6x5 \\n',mtrx)\n",
    "\n",
    "mtrx[:,:] = 2.0  # initialize\n",
    "print('Initialized mtrx 4x5\\n', mtrx)"
   ]
  }
 ],
 "metadata": {
  "kernelspec": {
   "display_name": "Python 3",
   "language": "python",
   "name": "python3"
  },
  "language_info": {
   "codemirror_mode": {
    "name": "ipython",
    "version": 3
   },
   "file_extension": ".py",
   "mimetype": "text/x-python",
   "name": "python",
   "nbconvert_exporter": "python",
   "pygments_lexer": "ipython3",
   "version": "3.8.3"
  },
  "latex_envs": {
   "LaTeX_envs_menu_present": true,
   "autoclose": false,
   "autocomplete": true,
   "bibliofile": "biblio.bib",
   "cite_by": "apalike",
   "current_citInitial": 1,
   "eqLabelWithNumbers": true,
   "eqNumInitial": 1,
   "hotkeys": {
    "equation": "Ctrl-E",
    "itemize": "Ctrl-I"
   },
   "labels_anchors": false,
   "latex_user_defs": false,
   "report_style_numbering": false,
   "user_envs_cfg": false
  },
  "toc": {
   "base_numbering": 1,
   "nav_menu": {},
   "number_sections": true,
   "sideBar": true,
   "skip_h1_title": false,
   "title_cell": "Table of Contents",
   "title_sidebar": "Contents",
   "toc_cell": false,
   "toc_position": {},
   "toc_section_display": true,
   "toc_window_display": false
  }
 },
 "nbformat": 4,
 "nbformat_minor": 2
}
