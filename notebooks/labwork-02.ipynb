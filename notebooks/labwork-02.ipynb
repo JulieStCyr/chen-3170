{
 "cells": [
  {
   "cell_type": "markdown",
   "metadata": {},
   "source": [
    "ChEn-3170: Computational Methods in Chemical Engineering Fall 2020 UMass Lowell; Prof. V. F. de Almeida **08Sep20**\n",
    "\n",
    "# Laboratory Work 02 (10Sep20)\n"
   ]
  },
  {
   "cell_type": "markdown",
   "metadata": {},
   "source": [
    "### Name: `your name`"
   ]
  },
  {
   "cell_type": "markdown",
   "metadata": {},
   "source": [
    "### Rubric for each assignment: \n",
    "\n",
    "|       Context              |  Points |\n",
    "| -----------------------     | ------- |\n",
    "| Precision of the answer     |   80%   |\n",
    "| Answer Markdown readability |   10%   |\n",
    "| Code readability            |   10%   |\n",
    "    "
   ]
  },
  {
   "cell_type": "markdown",
   "metadata": {},
   "source": [
    "### <span style=\"color:red\">Guidance:</span>\n",
    "\n",
    "+  <span style=\"color:red\"> \n",
    "    Save your work frequently to a file locally to your computer.\n",
    "   </span>\n",
    "+  <span style=\"color:red\">\n",
    "    During your work and before submitting the final version do:</span> Kernel -> Restart & Run All<span style=\"color:red\">, to verify your notebook runs correctly.\n",
    "   </span>\n",
    "+  <span style=\"color:red\">\n",
    "    Save your file again.\n",
    "   </span>\n",
    "+  <span style=\"color:red\">\n",
    "    Upload the notebook file: \n",
    "   </span> labwork-xx.ipynb<span style=\"color:red\"> on Blackboard.</span>"
   ]
  },
  {
   "cell_type": "markdown",
   "metadata": {},
   "source": [
    "---\n",
    "## Table of Assignments<a id=\"toa\"></a>\n",
    "* [Assignment 1 (20 pts)](#a1)\n",
    " - [Chemical species data structure](#a11)\n",
    " - [Explain your data structure](#a12)\n",
    " - [Output data structure](#a13)\n",
    "* [Assignment 2 (20 pts)](#a2)\n",
    " - [Chemical reactions data structure](#a21)\n",
    " - [Explain your data structure](#a22)\n",
    " - [Output data structure](#a23)\n",
    "* [Assignment 3 (20 pts)](#a3)\n",
    " - [Chemical reactions data structure](#a31)\n",
    " - [Explain your data structure](#a32)\n",
    " - [Output data structure](#a33)\n",
    "* [Assignment 4 (20 pts)](#a4)\n",
    " - [Molar mass vector](#a41)\n",
    " - [Vector dot product](#a42)\n",
    "* [Assignment 5 (15 pts)](#a5)\n",
    "* [Assignment 6 (5 pts)](#a6)\n",
    "---"
   ]
  },
  {
   "cell_type": "markdown",
   "metadata": {},
   "source": [
    "## <span style=\"color:blue\">[Assignment 1 (20 pts)](#toa)</span><a id=\"a1\"></a>"
   ]
  },
  {
   "cell_type": "markdown",
   "metadata": {},
   "source": [
    "### <span style=\"color:blue\">[1.1](#toa) Create variables to store the molecular formula and molar mass of the following species: </span> <a id=\"a11\"></a>\n",
    "  + <span style=\"color:blue\"> methane, </span>\n",
    "  + <span style=\"color:blue\"> molecular oxygen, </span>\n",
    "  + <span style=\"color:blue\"> carbon dioxide, </span>\n",
    "  + <span style=\"color:blue\"> molecular hydrogen, </span>\n",
    "  + <span style=\"color:blue\"> water, and </span>\n",
    "  + <span style=\"color:blue\"> carbon monoxide. </span>"
   ]
  },
  {
   "cell_type": "code",
   "execution_count": 1,
   "metadata": {},
   "outputs": [],
   "source": [
    "'''Code'''\n"
   ]
  },
  {
   "cell_type": "markdown",
   "metadata": {},
   "source": [
    "### <span style=\"color:blue\">[1.2](#toa) Explain (reader-focused) your data structure: </span> <a id=\"a12\"></a>"
   ]
  },
  {
   "cell_type": "markdown",
   "metadata": {},
   "source": [
    "**Answer:**"
   ]
  },
  {
   "cell_type": "markdown",
   "metadata": {},
   "source": [
    "### <span style=\"color:blue\"> [1.3](#toa) Provide an output as follows:</span> <a id=\"a13\"></a>"
   ]
  },
  {
   "cell_type": "code",
   "execution_count": 2,
   "metadata": {},
   "outputs": [
    {
     "name": "stdout",
     "output_type": "stream",
     "text": [
      "ch4 = {'formula': 'CH4', 'molar_mass': 16}\n",
      "o2  = {'formula': 'O2', 'molar_mass': 32}\n",
      "co2 = {'formula': 'CO2', 'molar_mass': 44}\n",
      "h2  = {'formula': 'H2', 'molar_mass': 2}\n",
      "h2o = {'formula': 'H2O', 'molar_mass': 18}\n",
      "co  = {'formula': 'CO', 'molar_mass': 28}\n"
     ]
    }
   ],
   "source": [
    "'''Code'''\n"
   ]
  },
  {
   "cell_type": "markdown",
   "metadata": {},
   "source": [
    "## <span style=\"color:blue\">[Assignment 2 (20 pts)](#toa)</span> <a id=\"a2\"></a>"
   ]
  },
  {
   "cell_type": "markdown",
   "metadata": {},
   "source": [
    "### <span style=\"color:blue\">[2.1](#toa) Using the work from Assignment 1, create a data structure to store each of the following chemical reactions for methane oxidation: </span> <a id=\"a21\"></a>\n",
    "\n",
    "1. $\\ \\ $  1 methane + 1 molecular oxygen = 1 carbon dioxide + 2 molecular hydrogen\n",
    "1. $\\ \\ $  2 molecular hydrogen + 1 molecular oxygen = 2 water\n",
    "1. $\\ \\ $  2 carbon monoxide + 4 molecular hydrogen = 2 methane + 1 molecular oxygen"
   ]
  },
  {
   "cell_type": "code",
   "execution_count": 3,
   "metadata": {},
   "outputs": [],
   "source": [
    "'''Code'''\n"
   ]
  },
  {
   "cell_type": "markdown",
   "metadata": {},
   "source": [
    "### <span style=\"color:blue\">[2.2](#toa) Explain (reader-focused) your data structure.</span><a id=\"a22\"></a>"
   ]
  },
  {
   "cell_type": "markdown",
   "metadata": {},
   "source": [
    "**Answer:**"
   ]
  },
  {
   "cell_type": "markdown",
   "metadata": {},
   "source": [
    "### <span style=\"color:blue\">[2.3](#toa) Print your data structure to produces the entire reaction set as follows.</span><a id=\"a23\"></a>"
   ]
  },
  {
   "cell_type": "code",
   "execution_count": 4,
   "metadata": {},
   "outputs": [
    {
     "name": "stdout",
     "output_type": "stream",
     "text": [
      "1 CH4 + 1 O2 <=> 1 CO2 + 2 H2\n",
      "2 H2 + 1 O2 <=> 2 H2O\n",
      "2 CO + 4 H2 <=> 2 CH4 + 1 O2\n"
     ]
    }
   ],
   "source": [
    "'''Code'''\n"
   ]
  },
  {
   "cell_type": "markdown",
   "metadata": {},
   "source": [
    "## <span style=\"color:blue\">[Assignment 3 (20 pts)](#toa)</span><a id=\"a3\"></a>"
   ]
  },
  {
   "cell_type": "markdown",
   "metadata": {},
   "source": [
    "### <span style=\"color:blue\">[3.1](#toa) Build a vector of signed stoichiometric coefficients for each reaction.\n",
    "</span><a id=\"a31\"></a>"
   ]
  },
  {
   "cell_type": "code",
   "execution_count": 5,
   "metadata": {},
   "outputs": [],
   "source": [
    "'''Code'''\n"
   ]
  },
  {
   "cell_type": "markdown",
   "metadata": {},
   "source": [
    "### <span style=\"color:blue\">[3.2](#toa) Explain (reader-focused) your data structure.</span><a id=\"a32\"></a>"
   ]
  },
  {
   "cell_type": "markdown",
   "metadata": {},
   "source": [
    "**Answer:**"
   ]
  },
  {
   "cell_type": "markdown",
   "metadata": {},
   "source": [
    "### <span style=\"color:blue\">[3.3](#toa) Provide an output of the data as follows.\n",
    "</span>\n",
    "<a id=\"a33\"></a>"
   ]
  },
  {
   "cell_type": "code",
   "execution_count": 6,
   "metadata": {},
   "outputs": [
    {
     "name": "stdout",
     "output_type": "stream",
     "text": [
      "stoic_rxn 1 = [-1 -1  1  2]\n",
      "stoic_rxn 2 = [-2 -1  2]\n",
      "stoic_rxn 3 = [-2 -4  2  1]\n"
     ]
    }
   ],
   "source": [
    "'''Code'''\n"
   ]
  },
  {
   "cell_type": "markdown",
   "metadata": {},
   "source": [
    "## <span style=\"color:blue\">[Assignment 4 (20 pts)](#toa)</span><a id=\"a4\"></a>"
   ]
  },
  {
   "cell_type": "markdown",
   "metadata": {},
   "source": [
    "### <span style=\"color:blue\">[4.1](#toa) For each reaction, build a vector of molar mass values for the species involved and print the vector data.</span><a id=\"a41\"></a>"
   ]
  },
  {
   "cell_type": "code",
   "execution_count": 7,
   "metadata": {},
   "outputs": [
    {
     "name": "stdout",
     "output_type": "stream",
     "text": [
      "molar masses per reaction\n",
      "[16 32 44  2]\n",
      "[ 2 32 18]\n",
      "[28  2 16 32]\n"
     ]
    }
   ],
   "source": [
    "'''Code'''\n"
   ]
  },
  {
   "cell_type": "markdown",
   "metadata": {},
   "source": [
    "### <span style=\"color:blue\">[4.2](#toa) For each reaction, multiply the vector of species mass values, created in 4.1, by the corresponding vector of signed stoichiometric coefficients in Assignment 3. Print the resulting vectors.</span><a id=\"a42\"></a>"
   ]
  },
  {
   "cell_type": "code",
   "execution_count": 8,
   "metadata": {},
   "outputs": [
    {
     "name": "stdout",
     "output_type": "stream",
     "text": [
      "stoichiometric coefficient vector product with molar masses\n",
      "[-16 -32  44   4]\n",
      "[ -4 -32  36]\n",
      "[-56  -8  32  32]\n"
     ]
    }
   ],
   "source": [
    "'''Code'''\n"
   ]
  },
  {
   "cell_type": "markdown",
   "metadata": {},
   "source": [
    "## <span style=\"color:blue\">[Assignment 5 (15 pts)](#toa)</span><a id=\"a5\"></a>"
   ]
  },
  {
   "cell_type": "markdown",
   "metadata": {},
   "source": [
    "### <span style=\"color:blue\">For each vector in Assignment 4.2, sum all the entries per vector, provide the output of the results, and explain the numerical results obtained.</span>"
   ]
  },
  {
   "cell_type": "code",
   "execution_count": null,
   "metadata": {},
   "outputs": [],
   "source": [
    "'''Code'''\n"
   ]
  },
  {
   "cell_type": "markdown",
   "metadata": {},
   "source": [
    "**Explanation of results:**"
   ]
  },
  {
   "cell_type": "markdown",
   "metadata": {},
   "source": [
    "## <span style=\"color:blue\">[Assignment 6 (5 pts)](#toa)</span><a id=\"a6\"></a>"
   ]
  },
  {
   "cell_type": "markdown",
   "metadata": {},
   "source": [
    "### <span style=\"color:blue\">Describe the most unclear point in the content presented so far. Then, make an effort to clarify the point on your own.</span>"
   ]
  }
 ],
 "metadata": {
  "kernelspec": {
   "display_name": "Python 3",
   "language": "python",
   "name": "python3"
  },
  "language_info": {
   "codemirror_mode": {
    "name": "ipython",
    "version": 3
   },
   "file_extension": ".py",
   "mimetype": "text/x-python",
   "name": "python",
   "nbconvert_exporter": "python",
   "pygments_lexer": "ipython3",
   "version": "3.8.3"
  },
  "latex_envs": {
   "LaTeX_envs_menu_present": true,
   "autoclose": false,
   "autocomplete": true,
   "bibliofile": "biblio.bib",
   "cite_by": "apalike",
   "current_citInitial": 1,
   "eqLabelWithNumbers": true,
   "eqNumInitial": 1,
   "hotkeys": {
    "equation": "Ctrl-E",
    "itemize": "Ctrl-I"
   },
   "labels_anchors": false,
   "latex_user_defs": false,
   "report_style_numbering": false,
   "user_envs_cfg": false
  },
  "toc": {
   "base_numbering": 1,
   "nav_menu": {},
   "number_sections": true,
   "sideBar": true,
   "skip_h1_title": false,
   "title_cell": "Table of Contents",
   "title_sidebar": "Contents",
   "toc_cell": false,
   "toc_position": {},
   "toc_section_display": true,
   "toc_window_display": false
  }
 },
 "nbformat": 4,
 "nbformat_minor": 2
}
