{
 "cells": [
  {
   "cell_type": "markdown",
   "metadata": {},
   "source": [
    "ChEn-3170: Computational Methods in Chemical Engineering Fall 2020 UMass Lowell; Prof. V. F. de Almeida **08Sep20**\n",
    "\n",
    "# Laboratory Work 02 (10Sep20)\n"
   ]
  },
  {
   "cell_type": "markdown",
   "metadata": {},
   "source": [
    "### Name: `Julie St.Cyr  `"
   ]
  },
  {
   "cell_type": "markdown",
   "metadata": {},
   "source": [
    "### Rubric for each assignment: \n",
    "\n",
    "|       Context              |  Points |\n",
    "| -----------------------     | ------- |\n",
    "| Precision of the answer     |   80%   |\n",
    "| Answer Markdown readability |   10%   |\n",
    "| Code readability            |   10%   |\n",
    "    "
   ]
  },
  {
   "cell_type": "markdown",
   "metadata": {},
   "source": [
    "### <span style=\"color:red\">Guidance:</span>\n",
    "\n",
    "+  <span style=\"color:red\"> \n",
    "    Save your work frequently to a file locally to your computer.\n",
    "   </span>\n",
    "+  <span style=\"color:red\">\n",
    "    During your work and before submitting the final version do:</span> Kernel -> Restart & Run All<span style=\"color:red\">, to verify your notebook runs correctly.\n",
    "   </span>\n",
    "+  <span style=\"color:red\">\n",
    "    Save your file again.\n",
    "   </span>\n",
    "+  <span style=\"color:red\">\n",
    "    Upload the notebook file: \n",
    "   </span> labwork-xx.ipynb<span style=\"color:red\"> on Blackboard.</span>"
   ]
  },
  {
   "cell_type": "markdown",
   "metadata": {},
   "source": [
    "---\n",
    "## Table of Assignments<a id=\"toa\"></a>\n",
    "* [Assignment 1 (20 pts)](#a1)\n",
    " - [Chemical species data structure](#a11)\n",
    " - [Explain your data structure](#a12)\n",
    " - [Output data structure](#a13)\n",
    "* [Assignment 2 (20 pts)](#a2)\n",
    " - [Chemical reactions data structure](#a21)\n",
    " - [Explain your data structure](#a22)\n",
    " - [Output data structure](#a23)\n",
    "* [Assignment 3 (20 pts)](#a3)\n",
    " - [Chemical reactions data structure](#a31)\n",
    " - [Explain your data structure](#a32)\n",
    " - [Output data structure](#a33)\n",
    "* [Assignment 4 (20 pts)](#a4)\n",
    " - [Molar mass vector](#a41)\n",
    " - [Vector dot product](#a42)\n",
    "* [Assignment 5 (15 pts)](#a5)\n",
    "* [Assignment 6 (5 pts)](#a6)\n",
    "---"
   ]
  },
  {
   "cell_type": "markdown",
   "metadata": {},
   "source": [
    "## <span style=\"color:blue\">[Assignment 1 (20 pts)](#toa)</span><a id=\"a1\"></a>"
   ]
  },
  {
   "cell_type": "markdown",
   "metadata": {},
   "source": [
    "### <span style=\"color:blue\">[1.1](#toa) Create variables to store the molecular formula and molar mass of the following species: </span> <a id=\"a11\"></a>\n",
    "  + <span style=\"color:blue\"> methane, </span>\n",
    "  + <span style=\"color:blue\"> molecular oxygen, </span>\n",
    "  + <span style=\"color:blue\"> carbon dioxide, </span>\n",
    "  + <span style=\"color:blue\"> molecular hydrogen, </span>\n",
    "  + <span style=\"color:blue\"> water, and </span>\n",
    "  + <span style=\"color:blue\"> carbon monoxide. </span>"
   ]
  },
  {
   "cell_type": "code",
   "execution_count": 10,
   "metadata": {},
   "outputs": [],
   "source": [
    "'''Code'''\n",
    "\n",
    "\n",
    "methane = {'formula':'CH4', 'mass': '16'}\n",
    "molecular_oxygen = {'formula':'O2', 'mass':'16'}\n",
    "carbon_dioxide = {'formula':'CO2', 'mass':'44'}\n",
    "molecular_hydrogen = {'formula':'H2', 'mass':'2'}\n",
    "water = {'formula':'H2O', 'mass':'18'}\n",
    "carbon_monoxide = {'formula':'CO', 'mass':'20'}"
   ]
  },
  {
   "cell_type": "markdown",
   "metadata": {},
   "source": [
    "### <span style=\"color:blue\">[1.2](#toa) Explain (reader-focused) your data structure: </span> <a id=\"a12\"></a>"
   ]
  },
  {
   "cell_type": "markdown",
   "metadata": {},
   "source": [
    "**Answer:**\n",
    "+ To create a data structure you need to state what you want and what defines it\n",
    "+ You must use the swigly brackets for defining instead of normal parenthesis to create a dictionary. \n",
    "+ A data structure is a set of code that holds informaiton so that as you code furthur you can refenrce the information about the ertain item. \n",
    "+ You use colon to set what you want to define, as seen for the fomula if it wants to be CH4 you would do 'formula':'CH4'"
   ]
  },
  {
   "cell_type": "markdown",
   "metadata": {},
   "source": [
    "### <span style=\"color:blue\"> [1.3](#toa) Provide an output as follows:</span> <a id=\"a13\"></a>"
   ]
  },
  {
   "cell_type": "code",
   "execution_count": 2,
   "metadata": {},
   "outputs": [
    {
     "name": "stdout",
     "output_type": "stream",
     "text": [
      "CH4 =  {'formula': 'CH4', 'molar_mass': '16'}\n",
      "O2 =  {'formula': 'O2', 'molar_mass': '16'}\n",
      "CO2=  {'formula': 'CO2', 'molar_mass': '44'}\n",
      "H2=  {'formula': 'H2', 'molar_mass': '2'}\n",
      "CO=  {'formula': 'CO', 'molar_mass': '20'}\n"
     ]
    }
   ],
   "source": [
    "'''Code'''\n",
    "\n",
    "CH4 = {'formula':'CH4', 'molar_mass': '16'}\n",
    "O2 = {'formula':'O2', 'molar_mass':'16'}\n",
    "CO2 = {'formula':'CO2', 'molar_mass':'44'}\n",
    "H2 = {'formula':'H2', 'molar_mass':'2'}\n",
    "H2O = {'formula':'H2O', 'mass':'18'}\n",
    "CO = {'formula':'CO', 'molar_mass':'20'}\n",
    "\n",
    "\n",
    "print('CH4 = ',CH4)\n",
    "print('O2 = ',O2)\n",
    "print('CO2= ',CO2)\n",
    "print('H2= ',H2)\n",
    "print('CO= ',CO)"
   ]
  },
  {
   "cell_type": "markdown",
   "metadata": {},
   "source": [
    "## <span style=\"color:blue\">[Assignment 2 (20 pts)](#toa)</span> <a id=\"a2\"></a>"
   ]
  },
  {
   "cell_type": "markdown",
   "metadata": {},
   "source": [
    "### <span style=\"color:blue\">[2.1](#toa) Using the work from Assignment 1, create a data structure to store each of the following chemical reactions for methane oxidation: </span> <a id=\"a21\"></a>\n",
    "\n",
    "1. $\\ \\ $  1 methane + 1 molecular oxygen = 1 carbon dioxide + 2 molecular hydrogen\n",
    "1. $\\ \\ $  2 molecular hydrogen + 1 molecular oxygen = 2 water\n",
    "1. $\\ \\ $  2 carbon monoxide + 4 molecular hydrogen = 2 methane + 1 molecular oxygen"
   ]
  },
  {
   "cell_type": "code",
   "execution_count": 29,
   "metadata": {},
   "outputs": [
    {
     "name": "stdout",
     "output_type": "stream",
     "text": [
      "1.  1 H2 + 1 O2 = 1 CO2 + 2 H2\n",
      "2.  2 H2 + 1 O2 = 2 H2O\n",
      "3.  2 CO + 4 H2 = 2 CH4 + 1 O2\n"
     ]
    }
   ],
   "source": [
    "'''code'''\n",
    "\n",
    "CH4 = {'formula':'CH4', 'molar_mass': '16'}        #Molecule Dictionary \n",
    "O2 = {'formula':'O2', 'molar_mass':'16'}\n",
    "CO2 = {'formula':'CO2', 'molar_mass':'44'}\n",
    "H2 = {'formula':'H2', 'molar_mass':'2'}\n",
    "H2O = {'formula':'H2O', 'mass':'18'}\n",
    "CO = {'formula':'CO', 'molar_mass':'20'}\n",
    "\n",
    "\n",
    "rxn1 = [H2['formula'],                 #Rxn 1 Dictionary \n",
    "        O2['formula'],\n",
    "        CO2['formula'],\n",
    "        H2['formula']]\n",
    "\n",
    "rxn2 = [H2['formula'],                        #Rxn 2 dictionary \n",
    "         O2['formula'],\n",
    "        H2O['formula']]\n",
    "\n",
    "rxn3 = [CO['formula'],                       #Rxn 3 dictionary \n",
    "        H2['formula'],\n",
    "        CH4['formula'],\n",
    "        O2['formula']]\n",
    "\n",
    "print ('1. ', '1', rxn1[0],'+','1',rxn1[1],'=','1',rxn1[2],'+','2',rxn1[3])\n",
    "print ('2. ', '2', rxn2[0],'+','1',rxn2[1],'=','2',rxn2[2])\n",
    "print ('3. ', '2', rxn3[0],'+','4',rxn3[1],'=','2',rxn3[2],'+','1',rxn3[3])\n"
   ]
  },
  {
   "cell_type": "markdown",
   "metadata": {},
   "source": [
    "### <span style=\"color:blue\">[2.2](#toa) Explain (reader-focused) your data structure.</span><a id=\"a22\"></a>"
   ]
  },
  {
   "cell_type": "markdown",
   "metadata": {},
   "source": [
    "**Answer:**\n",
    "+ First you must make a dictionary. This will store the information about the chemical molecule. This is explained above. \n",
    "+ Then you need to create a new dictionary for each reaciton which can pull informaiton form the original dictionary. This can be held as a list. \n",
    "+ Each data point you want you need to assign a key starting with 0 to allow you to reference it. \n",
    "+ Then you need to print out which parts of the dictionary you want plus the coeffients and the mathetmatical signs. To refernece data in the dictionary use the key you assigned it.  "
   ]
  },
  {
   "cell_type": "markdown",
   "metadata": {},
   "source": [
    "### <span style=\"color:blue\">[2.3](#toa) Print your data structure to produces the entire reaction set as follows.</span><a id=\"a23\"></a>"
   ]
  },
  {
   "cell_type": "code",
   "execution_count": 32,
   "metadata": {},
   "outputs": [
    {
     "name": "stdout",
     "output_type": "stream",
     "text": [
      "1.  1 H2 + 1 O2 <=> 1 CO2 + 2 H2\n",
      "2.  2 H2 + 1 O2 <=> 2 H2O\n",
      "3.  2 CO + 4 H2 <=> 2 CH4 + 1 O2\n"
     ]
    }
   ],
   "source": [
    "'''code'''\n",
    "\n",
    "CH4 = {'formula':'CH4', 'molar_mass': '16'}        #Molecule Dictionary \n",
    "O2 = {'formula':'O2', 'molar_mass':'16'}\n",
    "CO2 = {'formula':'CO2', 'molar_mass':'44'}\n",
    "H2 = {'formula':'H2', 'molar_mass':'2'}\n",
    "H2O = {'formula':'H2O', 'mass':'18'}\n",
    "CO = {'formula':'CO', 'molar_mass':'20'}\n",
    "\n",
    "\n",
    "rxn1 = [H2['formula'],                 #Rxn 1 Dictionary \n",
    "        O2['formula'],\n",
    "        CO2['formula'],\n",
    "        H2['formula']]\n",
    "\n",
    "rxn2 = [H2['formula'],                        #Rxn 2 dictionary \n",
    "         O2['formula'],\n",
    "        H2O['formula']]\n",
    "\n",
    "rxn3 = [CO['formula'],                       #Rxn 3 dictionary \n",
    "        H2['formula'],\n",
    "        CH4['formula'],\n",
    "        O2['formula']]\n",
    "\n",
    "print ('1. ', '1', rxn1[0],'+','1',rxn1[1],'<=>','1',rxn1[2],'+','2',rxn1[3])\n",
    "print ('2. ', '2', rxn2[0],'+','1',rxn2[1],'<=>','2',rxn2[2])\n",
    "print ('3. ', '2', rxn3[0],'+','4',rxn3[1],'<=>','2',rxn3[2],'+','1',rxn3[3])\n"
   ]
  },
  {
   "cell_type": "markdown",
   "metadata": {},
   "source": [
    "## <span style=\"color:blue\">[Assignment 3 (20 pts)](#toa)</span><a id=\"a3\"></a>"
   ]
  },
  {
   "cell_type": "markdown",
   "metadata": {},
   "source": [
    "### <span style=\"color:blue\">[3.1](#toa) Build a vector of signed stoichiometric coefficients for each reaction.\n",
    "</span><a id=\"a31\"></a>"
   ]
  },
  {
   "cell_type": "code",
   "execution_count": 13,
   "metadata": {},
   "outputs": [
    {
     "name": "stdout",
     "output_type": "stream",
     "text": [
      "[-1 -1  1  2]\n",
      "[-2 -1  2]\n",
      "[-2 -4  2  1]\n"
     ]
    }
   ],
   "source": [
    "'''Code'''\n",
    "import numpy as np   #import numpy\n",
    "\n",
    "pylist= [-1,-1,1,2]                  #array for rxn 1 stoichiometric ratios \n",
    "stoic_rxn1  = np.array(pylist)\n",
    "\n",
    "pylist=[-2,-1,2]                    #array for rxn 2 stoichiometric ratios \n",
    "stoic_rxn2=np.array(pylist)\n",
    "\n",
    "pylist= [-2,-4,2,1]                #array for rxn 3 stoichiometric ratios \n",
    "stoic_rxn3=np.array(pylist)\n",
    "\n",
    "print(stoic_rxn1)\n",
    "print(stoic_rxn2)\n",
    "print(stoic_rxn3)"
   ]
  },
  {
   "cell_type": "markdown",
   "metadata": {},
   "source": [
    "### <span style=\"color:blue\">[3.2](#toa) Explain (reader-focused) your data structure.</span><a id=\"a32\"></a>"
   ]
  },
  {
   "cell_type": "markdown",
   "metadata": {},
   "source": [
    "**Answer:**\n",
    "+ To create an array you must first download the extension data numpy. It is common to shorten it to np for easier refernece in the future\n",
    "+ Then create a pylist of the data you want to store with in it, here the coeiffients \n",
    "+ Then assign the pylist niumpy array to a variable, in this I assigned it to the reaction it goes to\n",
    "+ Then you are able to print it out "
   ]
  },
  {
   "cell_type": "markdown",
   "metadata": {},
   "source": [
    "### <span style=\"color:blue\">[3.3](#toa) Provide an output of the data as follows.\n",
    "</span>\n",
    "<a id=\"a33\"></a>"
   ]
  },
  {
   "cell_type": "code",
   "execution_count": 15,
   "metadata": {},
   "outputs": [
    {
     "name": "stdout",
     "output_type": "stream",
     "text": [
      "stoic_rxn 1 =  [-1 -1  1  2]\n",
      "stoic_rxn 2 =  [-2 -1  2]\n",
      "stoic_rxn 3 =  [-2 -4  2  1]\n"
     ]
    }
   ],
   "source": [
    "'''Code'''\n",
    "\n",
    "import numpy as np                      #import numpy\n",
    "pylist= [-1,-1,1,2]                     #array for rxn 1 stoichiometric ratios \n",
    "stoic_rxn1  = np.array(pylist)\n",
    "\n",
    "pylist=[-2,-1,2]                       #array for rxn 2 stoichiometric ratios \n",
    "stoic_rxn2=np.array(pylist)\n",
    "\n",
    "pylist= [-2,-4,2,1]                    #array for rxn 3 stoichiometric ratios \n",
    "stoic_rxn3=np.array(pylist)\n",
    "\n",
    "print('stoic_rxn 1 = ', stoic_rxn1)\n",
    "print('stoic_rxn 2 = ',stoic_rxn2)\n",
    "print('stoic_rxn 3 = ',stoic_rxn3)"
   ]
  },
  {
   "cell_type": "markdown",
   "metadata": {},
   "source": [
    "## <span style=\"color:blue\">[Assignment 4 (20 pts)](#toa)</span><a id=\"a4\"></a>"
   ]
  },
  {
   "cell_type": "markdown",
   "metadata": {},
   "source": [
    "### <span style=\"color:blue\">[4.1](#toa) For each reaction, build a vector of molar mass values for the species involved and print the vector data.</span><a id=\"a41\"></a>"
   ]
  },
  {
   "cell_type": "code",
   "execution_count": 19,
   "metadata": {},
   "outputs": [
    {
     "name": "stdout",
     "output_type": "stream",
     "text": [
      "molar masses per reaction\n",
      "[16 32 44  2]\n",
      "[ 2 32 18]\n",
      "[28  2 16 32]\n"
     ]
    }
   ],
   "source": [
    "'''Code'''\n",
    "import numpy as np   #import numpy\n",
    "\n",
    "pylist= [16,32,44,2]                     #Array for molar masses in rxn 1\n",
    "molar_massrxn1 = np.array(pylist)\n",
    "\n",
    "pylist = [2,32,18]                      #Array for molar masses in rxn 2\n",
    "molar_massrxn2 = np.array(pylist)\n",
    "\n",
    "pylist = [28, 2, 16, 32]                #Array for molar masses in rxn 3\n",
    "molar_massrxn3= np.array(pylist)\n",
    "\n",
    "print ('molar masses per reaction')\n",
    "print (molar_massrxn1)\n",
    "print(molar_massrxn2)\n",
    "print(molar_massrxn3)"
   ]
  },
  {
   "cell_type": "markdown",
   "metadata": {},
   "source": [
    "### <span style=\"color:blue\">[4.2](#toa) For each reaction, multiply the vector of species mass values, created in 4.1, by the corresponding vector of signed stoichiometric coefficients in Assignment 3. Print the resulting vectors.</span><a id=\"a42\"></a>"
   ]
  },
  {
   "cell_type": "code",
   "execution_count": 22,
   "metadata": {},
   "outputs": [
    {
     "name": "stdout",
     "output_type": "stream",
     "text": [
      "stoichiometric coeffiecient vector product with molar masses\n",
      "[-16 -32  44   4]\n",
      "[ -4 -32  36]\n",
      "[-56  -8  32  32]\n"
     ]
    }
   ],
   "source": [
    "'''Code'''\n",
    "import numpy as np   #import numpy\n",
    "\n",
    "pylist= [-1,-1,1,2]                #stoi rxn1\n",
    "stoic_rxn1  = np.array(pylist)\n",
    "\n",
    "pylist=[-2,-1,2]                 #stoic rxn 2\n",
    "stoic_rxn2=np.array(pylist)\n",
    "\n",
    "pylist= [-2,-4,2,1]\n",
    "stoic_rxn3=np.array(pylist)              #stoic rxn 3\n",
    "\n",
    "pylist= [16,32,44,2]                    #molar mass rxn1\n",
    "molar_massrxn1 = np.array(pylist)\n",
    "\n",
    "pylist = [2,32,18]                     #molar mass rxn 2 \n",
    "molar_massrxn2 = np.array(pylist)\n",
    "\n",
    "pylist = [28, 2, 16, 32]              #molar mass rxn 3 \n",
    "molar_massrxn3= np.array(pylist)\n",
    "\n",
    "print('stoichiometric coeffiecient vector product with molar masses')      #Print of multiplication of stoi and mass \n",
    "print (molar_massrxn1*stoic_rxn1)\n",
    "print (molar_massrxn2*stoic_rxn2)\n",
    "print (molar_massrxn3*stoic_rxn3)"
   ]
  },
  {
   "cell_type": "markdown",
   "metadata": {},
   "source": [
    "## <span style=\"color:blue\">[Assignment 5 (15 pts)](#toa)</span><a id=\"a5\"></a>"
   ]
  },
  {
   "cell_type": "markdown",
   "metadata": {},
   "source": [
    "### <span style=\"color:blue\">For each vector in Assignment 4.2, sum all the entries per vector, provide the output of the results, and explain the numerical results obtained.</span>"
   ]
  },
  {
   "cell_type": "code",
   "execution_count": 28,
   "metadata": {},
   "outputs": [
    {
     "name": "stdout",
     "output_type": "stream",
     "text": [
      "0\n",
      "0\n",
      "0\n"
     ]
    }
   ],
   "source": [
    "'''Code'''\n",
    "import math \n",
    "import numpy as np   #import numpy\n",
    "\n",
    "\n",
    "pylist= [-1,-1,1,2]                #stoi rxn1\n",
    "stoic_rxn1  = np.array(pylist)\n",
    "\n",
    "pylist=[-2,-1,2]                 #stoic rxn 2\n",
    "stoic_rxn2=np.array(pylist)\n",
    "\n",
    "pylist= [-2,-4,2,1]\n",
    "stoic_rxn3=np.array(pylist)              #stoic rxn 3\n",
    "\n",
    "pylist= [16,32,44,2]                    #molar mass rxn1\n",
    "molar_massrxn1 = np.array(pylist)\n",
    "\n",
    "pylist = [2,32,18]                     #molar mass rxn 2 \n",
    "molar_massrxn2 = np.array(pylist)\n",
    "\n",
    "pylist = [28, 2, 16, 32]              #molar mass rxn 3 \n",
    "molar_massrxn3= np.array(pylist)\n",
    "\n",
    "\n",
    "rxn1 = molar_massrxn1*stoic_rxn1                      #multipliaction of molar mass and stoic ratio\n",
    "rxn2 = molar_massrxn2*stoic_rxn2\n",
    "rxn3 = molar_massrxn3*stoic_rxn3\n",
    "\n",
    "rxn1_sum = rxn1.sum()                              #sum of the arrays created in combination of mass and stoic\n",
    "rxn2_sum = rxn2.sum()\n",
    "rxn3_sum = rxn3.sum()\n",
    "\n",
    "print(rxn1_sum)\n",
    "print(rxn2_sum)\n",
    "print(rxn3_sum)"
   ]
  },
  {
   "cell_type": "markdown",
   "metadata": {},
   "source": [
    "**Explanation of results:**\n",
    "+ The reason all three answers come out to 0 is because for a balences equation the number of each atom is equal meaning if there are 4 oxygens in the reactants there should be 4 oxygens in the products. Since each atom can be reporesented by their molar mass, the molar mass multiplied by the stoiciometic ratio which evens the equation out would make it so the same number would be on each side just one being the negative. Since the arrays held the reactants as negatives and the products as positive the sums will eliminate to 0. "
   ]
  },
  {
   "cell_type": "markdown",
   "metadata": {},
   "source": [
    "## <span style=\"color:blue\">[Assignment 6 (5 pts)](#toa)</span><a id=\"a6\"></a>"
   ]
  },
  {
   "cell_type": "markdown",
   "metadata": {},
   "source": [
    "### <span style=\"color:blue\">Describe the most unclear point in the content presented so far. Then, make an effort to clarify the point on your own.</span>"
   ]
  },
  {
   "cell_type": "markdown",
   "metadata": {},
   "source": [
    "+ I managed to figure out how to refer a dictionary in a new dictionary however that was a big quesiton for most of this lab. Assignment 2 was the hardest the rest I feel I understood very well. \n",
    "+ Is there a different way to approach this will out creating two different dicitonaries? "
   ]
  }
 ],
 "metadata": {
  "kernelspec": {
   "display_name": "Python 3",
   "language": "python",
   "name": "python3"
  },
  "language_info": {
   "codemirror_mode": {
    "name": "ipython",
    "version": 3
   },
   "file_extension": ".py",
   "mimetype": "text/x-python",
   "name": "python",
   "nbconvert_exporter": "python",
   "pygments_lexer": "ipython3",
   "version": "3.8.3"
  },
  "latex_envs": {
   "LaTeX_envs_menu_present": true,
   "autoclose": false,
   "autocomplete": true,
   "bibliofile": "biblio.bib",
   "cite_by": "apalike",
   "current_citInitial": 1,
   "eqLabelWithNumbers": true,
   "eqNumInitial": 1,
   "hotkeys": {
    "equation": "Ctrl-E",
    "itemize": "Ctrl-I"
   },
   "labels_anchors": false,
   "latex_user_defs": false,
   "report_style_numbering": false,
   "user_envs_cfg": false
  },
  "toc": {
   "base_numbering": 1,
   "nav_menu": {},
   "number_sections": true,
   "sideBar": true,
   "skip_h1_title": false,
   "title_cell": "Table of Contents",
   "title_sidebar": "Contents",
   "toc_cell": false,
   "toc_position": {},
   "toc_section_display": true,
   "toc_window_display": false
  }
 },
 "nbformat": 4,
 "nbformat_minor": 2
}
